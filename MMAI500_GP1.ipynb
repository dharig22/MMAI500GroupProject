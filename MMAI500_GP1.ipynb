{
 "cells": [
  {
   "cell_type": "code",
   "execution_count": 3,
   "metadata": {},
   "outputs": [],
   "source": [
    "# Import libraries\n",
    "import pandas as pd\n",
    "import numpy as np"
   ]
  },
  {
   "cell_type": "code",
   "execution_count": 11,
   "metadata": {},
   "outputs": [
    {
     "name": "stdout",
     "output_type": "stream",
     "text": [
      "           X          Y  OBJECTID EVENT_UNIQUE_ID                OCC_DATE   \n",
      "0 -79.234955  43.781528         1   GO-2004397105  2004/05/15 04:00:00+00  \\\n",
      "1 -79.618218  43.733547         2   GO-2004600109  2004/07/26 04:00:00+00   \n",
      "2 -79.518759  43.769157         3   GO-2004311851  2004/05/14 04:00:00+00   \n",
      "3 -79.378870  43.660665         4   GO-2004736004  2004/12/19 05:00:00+00   \n",
      "4 -79.212435  43.812075         5   GO-2004303455  2004/04/12 04:00:00+00   \n",
      "\n",
      "   OCC_YEAR OCC_MONTH   OCC_DOW  OCC_DOY  OCC_DAY  ...  OCC_TIME_RANGE   \n",
      "0      2004       May  Saturday      136       15  ...           Night  \\\n",
      "1      2004      July    Monday      208       26  ...         Evening   \n",
      "2      2004       May    Friday      135       14  ...       Afternoon   \n",
      "3      2004  December    Sunday      354       19  ...           Night   \n",
      "4      2004     April    Monday      103       12  ...         Evening   \n",
      "\n",
      "  DIVISION DEATH  INJURIES  HOOD_158       NEIGHBOURHOOD_158 HOOD_140   \n",
      "0      D41     0         0       142            Woburn North      137  \\\n",
      "1      D23     0         0         1  West Humber-Clairville        1   \n",
      "2      D31     1         1        24             Black Creek       24   \n",
      "3      D51     1         0       168     Downtown Yonge East       75   \n",
      "4      D42     0         0       146            Malvern East      132   \n",
      "\n",
      "            NEIGHBOURHOOD_140 LONG_WGS84  LAT_WGS84  \n",
      "0                Woburn (137) -79.234955  43.781528  \n",
      "1  West Humber-Clairville (1) -79.618218  43.733547  \n",
      "2            Black Creek (24) -79.518759  43.769157  \n",
      "3  Church-Yonge Corridor (75) -79.378870  43.660665  \n",
      "4               Malvern (132) -79.212435  43.812075  \n",
      "\n",
      "[5 rows x 21 columns]\n"
     ]
    }
   ],
   "source": [
    "# Load data\n",
    "df = pd.read_excel('/Users/dhari/Downloads/Group Project Data-SFD Data-Toronto Police.xlsx') \n",
    "\n",
    "# Print the first few rows of the dataframe to ensure it's loaded correctly\n",
    "print(df.head())"
   ]
  },
  {
   "cell_type": "code",
   "execution_count": 5,
   "metadata": {},
   "outputs": [
    {
     "name": "stdout",
     "output_type": "stream",
     "text": [
      "X                    float64\n",
      "Y                    float64\n",
      "OBJECTID               int64\n",
      "EVENT_UNIQUE_ID       object\n",
      "OCC_DATE              object\n",
      "OCC_YEAR               int64\n",
      "OCC_MONTH             object\n",
      "OCC_DOW               object\n",
      "OCC_DOY                int64\n",
      "OCC_DAY                int64\n",
      "OCC_HOUR               int64\n",
      "OCC_TIME_RANGE        object\n",
      "DIVISION              object\n",
      "DEATH                  int64\n",
      "INJURIES               int64\n",
      "HOOD_158              object\n",
      "NEIGHBOURHOOD_158     object\n",
      "HOOD_140              object\n",
      "NEIGHBOURHOOD_140     object\n",
      "LONG_WGS84           float64\n",
      "LAT_WGS84            float64\n",
      "dtype: object\n"
     ]
    }
   ],
   "source": [
    "# Let's see the data types of all the columns\n",
    "print(df.dtypes)"
   ]
  },
  {
   "attachments": {},
   "cell_type": "markdown",
   "metadata": {},
   "source": [
    "Step 1: Drop Unnecessary Columns \n",
    "\n",
    "1) 'X, Y, LONG_WGS84, LAT_WGS84' - These are all geographical coordinates. X and Y likely represent a projected coordinate system, while LONG_WGS84 and LAT_WGS84 represent a geographic (longitude and latitude) coordinate system. For our analysis on spatial patterns and neighborhood grouping, we may need the longitude and latitude data. The X and Y could possibly be redundant if they represent the same locations.\n",
    "\n",
    "2) 'OBJECTID' - This is likely a unique identifier for each row or event. \n",
    "It might not provide much meaningful information for our analysis.\n",
    "\n",
    "3) 'EVENT_UNIQUE_ID' - This might be a unique identifier for each event. \n",
    "If similar to OBJECTID, it might not be directly useful for our analysis.\n",
    "\n",
    "4) 'OCC_DATE, OCC_YEAR, OCC_MONTH, OCC_DOW, OCC_DOY, OCC_DAY, OCC_HOUR, OCC_TIME_RANGE' - These are all related to the time of the incidents. \n",
    "They will be crucial to our time pattern analysis.\n",
    "\n",
    "5) 'DIVISION' - This helps understand which police division is incharge of the criminal-offence.\n",
    "This could be useful for understanding patterns across different police divisions.\n",
    "\n",
    "6) 'DEATH, INJURIES' - These could be important for our severity analysis.\n",
    "\n",
    "7) 'HOOD_158, NEIGHBOURHOOD_158, HOOD_140, NEIGHBOURHOOD_140' - These columns seem to provide neighborhood information under two different structures. \n",
    "We could potentially choose one structure to use depending on which is more relevant or comprehensive for our analysis. \n",
    "\n",
    "8) 'OCC_DATE' - This column provides the date when the incident occurred. \n",
    "As we have separate columns detailing the year (OCC_YEAR), month (OCC_MONTH), day of the week (OCC_DOW), day of the year (OCC_DOY), day of the month (OCC_DAY), and hour of the day (OCC_HOUR) of each incident, the OCC_DATE column becomes redundant and can be dropped.\n",
    "Having the date broken down into these separate features can be more useful for our analysis as it allows us to easily examine trends and patterns over time at different granularities (e.g., yearly trends, monthly trends, daily patterns, etc.). It also saves us the trouble of having to parse the date column into these separate features.\n",
    "\n",
    "Based on this, it seems like we could potentially drop the X, Y, OBJECTID, EVENT_UNIQUE_ID columns if they don't provide additional meaningful information. We could also choose one set of neighborhood structure columns to keep (HOOD_158, NEIGHBOURHOOD_158 or HOOD_140, NEIGHBOURHOOD_140, OCC_DATE).\n"
   ]
  },
  {
   "cell_type": "code",
   "execution_count": 12,
   "metadata": {},
   "outputs": [],
   "source": [
    "# Drop columns\n",
    "df = df.drop(['X', 'Y', 'OBJECTID', 'EVENT_UNIQUE_ID', 'HOOD_140', 'NEIGHBOURHOOD_140', 'OCC_DATE'], axis=1)"
   ]
  },
  {
   "attachments": {},
   "cell_type": "markdown",
   "metadata": {},
   "source": [
    "Step 2: Check Data Types"
   ]
  },
  {
   "cell_type": "code",
   "execution_count": 13,
   "metadata": {},
   "outputs": [
    {
     "name": "stdout",
     "output_type": "stream",
     "text": [
      "OCC_YEAR               int64\n",
      "OCC_MONTH             object\n",
      "OCC_DOW               object\n",
      "OCC_DOY                int64\n",
      "OCC_DAY                int64\n",
      "OCC_HOUR               int64\n",
      "OCC_TIME_RANGE        object\n",
      "DIVISION              object\n",
      "DEATH                  int64\n",
      "INJURIES               int64\n",
      "HOOD_158              object\n",
      "NEIGHBOURHOOD_158     object\n",
      "LONG_WGS84           float64\n",
      "LAT_WGS84            float64\n",
      "dtype: object\n"
     ]
    }
   ],
   "source": [
    "print(df.dtypes)"
   ]
  },
  {
   "attachments": {},
   "cell_type": "markdown",
   "metadata": {},
   "source": [
    "'DIVISION': This column is of object data type and if this column is meant to be categorical (i.e., it represents distinct categories or groups), it's good practice to convert this column to a category data type. \n",
    "\n",
    "This can save memory and also allows us to use categorical functions."
   ]
  },
  {
   "cell_type": "code",
   "execution_count": 14,
   "metadata": {},
   "outputs": [],
   "source": [
    "# Convert object data type to categorical \n",
    "df['DIVISION'] = df['DIVISION'].astype('category')"
   ]
  },
  {
   "attachments": {},
   "cell_type": "markdown",
   "metadata": {},
   "source": [
    "'OCC_MONTH and OCC_DOW': These columns represent the month and day of the week of the offence respectively. Currently, they are stored as object types. We should consider converting them into a category type. \n",
    "\n",
    "This would allow for logical ordering of these fields, which could be helpful for analysis.\n",
    "\n",
    "**\n",
    "OCC_MONTH: This column represents the month of the year (12 unique values). Converting this to a categorical type allows for logical ordering (January, February, March, etc.) which is beneficial for some types of analysis, especially those involving time series or trends.\n",
    "\n",
    "OCC_DOW: This column represents the day of the week (7 unique values). Similar to the month, changing this to a categorical type allows for logical ordering (Monday, Tuesday, Wednesday, etc.) which can be helpful for analyzing weekly trends.\n",
    "\n",
    "OCC_YEAR: This column is already an integer type which is efficient for storing and processing. While it could be converted to a categorical type, it's generally more efficient to keep it as an integer for any kind of mathematical operations (like calculating the number of years between incidents, for example).\n",
    "\n",
    "OCC_DAY: This column represents the day of the month (1 to 31). Like OCC_YEAR, it's also an integer type which is appropriate for this kind of data. While there is a logical ordering to the days of the month, converting this column to a categorical type wouldn't provide a significant benefit because numerical operations with day values are quite common (like calculating the number of days between incidents, for example).\n",
    "**"
   ]
  },
  {
   "cell_type": "code",
   "execution_count": 16,
   "metadata": {},
   "outputs": [],
   "source": [
    "df['OCC_MONTH'] = df['OCC_MONTH'].astype('category')\n",
    "df['OCC_DOW'] = df['OCC_DOW'].astype('category')"
   ]
  },
  {
   "attachments": {},
   "cell_type": "markdown",
   "metadata": {},
   "source": [
    "'HOOD_158 and NEIGHBOURHOOD_158': These columns represent identifiers and names of neighbourhoods using City of Toronto's new 158 neighbourhood structure. It seems they could also be converted to category type since they contain a limited number of unique values. \n",
    "While they are currently treated as objects, changing them to a categorical type can be beneficial for several reasons."
   ]
  },
  {
   "cell_type": "code",
   "execution_count": 17,
   "metadata": {},
   "outputs": [],
   "source": [
    "df['HOOD_158'] = df['HOOD_158'].astype('category')\n",
    "df['NEIGHBOURHOOD_158'] = df['NEIGHBOURHOOD_158'].astype('category')"
   ]
  },
  {
   "attachments": {},
   "cell_type": "markdown",
   "metadata": {},
   "source": [
    "'OCC_TIME_RANGE': seems to contain specific time ranges during which an offense occurred. Since the number of unique time ranges is limited, it would be more efficient to convert this column from an 'object' type to a 'category' type.\n",
    "Categories are much more memory efficient and operations on categories are usually faster than 'object'."
   ]
  },
  {
   "cell_type": "code",
   "execution_count": 19,
   "metadata": {},
   "outputs": [],
   "source": [
    "df['OCC_TIME_RANGE'] = df['OCC_TIME_RANGE'].astype('category')"
   ]
  },
  {
   "cell_type": "code",
   "execution_count": 20,
   "metadata": {},
   "outputs": [
    {
     "name": "stdout",
     "output_type": "stream",
     "text": [
      "OCC_YEAR                int64\n",
      "OCC_MONTH            category\n",
      "OCC_DOW              category\n",
      "OCC_DOY                 int64\n",
      "OCC_DAY                 int64\n",
      "OCC_HOUR                int64\n",
      "OCC_TIME_RANGE       category\n",
      "DIVISION             category\n",
      "DEATH                   int64\n",
      "INJURIES                int64\n",
      "HOOD_158             category\n",
      "NEIGHBOURHOOD_158    category\n",
      "LONG_WGS84            float64\n",
      "LAT_WGS84             float64\n",
      "dtype: object\n"
     ]
    }
   ],
   "source": [
    "# Check data types to make sure they are correct\n",
    "print(df.dtypes)"
   ]
  },
  {
   "attachments": {},
   "cell_type": "markdown",
   "metadata": {},
   "source": [
    "Data types seem to all be correct based on the analysis purpose:\n",
    "1) OCC_YEAR, OCC_DOY, OCC_DAY, OCC_HOUR, DEATH, and INJURIES are of integer type (int64), which is suitable for numerical and count data.\n",
    "\n",
    "2) OCC_MONTH, OCC_DOW, OCC_TIME_RANGE, DIVISION, HOOD_158, and NEIGHBOURHOOD_158 are of category type, which is suitable for limited and usually fixed numbers of possible values. Changing these from 'object' to 'category' should save memory and potentially increase computational efficiency.\n",
    "\n",
    "3) LONG_WGS84 and LAT_WGS84 are of float type (float64), which is suitable for numerical data that can take any real-numbered value."
   ]
  },
  {
   "attachments": {},
   "cell_type": "markdown",
   "metadata": {},
   "source": [
    "Step 3: Check Missing Values"
   ]
  },
  {
   "cell_type": "code",
   "execution_count": 21,
   "metadata": {},
   "outputs": [
    {
     "data": {
      "text/plain": [
       "OCC_YEAR             0\n",
       "OCC_MONTH            0\n",
       "OCC_DOW              0\n",
       "OCC_DOY              0\n",
       "OCC_DAY              0\n",
       "OCC_HOUR             0\n",
       "OCC_TIME_RANGE       0\n",
       "DIVISION             0\n",
       "DEATH                0\n",
       "INJURIES             0\n",
       "HOOD_158             0\n",
       "NEIGHBOURHOOD_158    0\n",
       "LONG_WGS84           0\n",
       "LAT_WGS84            0\n",
       "dtype: int64"
      ]
     },
     "execution_count": 21,
     "metadata": {},
     "output_type": "execute_result"
    }
   ],
   "source": [
    "df.isnull().sum()"
   ]
  },
  {
   "attachments": {},
   "cell_type": "markdown",
   "metadata": {},
   "source": [
    "That's great news! \n",
    "This output indicates that there are no missing values in our dataset. Every cell in each column has some data. This is an ideal situation as it often simplifies further data preprocessing and analysis."
   ]
  },
  {
   "attachments": {},
   "cell_type": "markdown",
   "metadata": {},
   "source": [
    "Step 4: Outlier Detection\n",
    "\n",
    "This step involves identifying outliers in your data. An outlier is an observation that deviates significantly from other observations. They can occur due to variability in the data or due to measurement errors.\n",
    "\n",
    "However, in the context of our dataset, which involves data on shootings and firearm discharges, outliers could signify important real-world events, such as mass shootings or other significant incidents. Therefore, the term \"outlier\" does not necessarily indicate a problem in this context, but rather data points of particular interest or concern and instead of eliminating these outliers, our analysis would focus on understanding their cause and impact."
   ]
  },
  {
   "attachments": {},
   "cell_type": "markdown",
   "metadata": {},
   "source": [
    "Step 5: Feature Engineering\n",
    "\n",
    "Seasonality in data can often reveal important insights. For example, in the context of this dataset, it may be interesting to investigate if more shooting incidents occur in certain seasons (Spring, Summer, Autumn, Winter) than others. This could be due to various reasons such as changes in weather, school vacations, holiday periods etc.\n",
    "\n",
    "For instance, if there are more incidents in the summer, it could be due to the fact that people tend to be outside more often in warmer weather, leading to more potential conflicts. On the other hand, fewer incidents in the winter could be attributed to fewer people being outside due to cold weather.\n",
    "\n",
    "In order to carry out this analysis, we can create a new column 'OCC_SEASON' based on the 'OCC_MONTH' column."
   ]
  },
  {
   "cell_type": "code",
   "execution_count": 23,
   "metadata": {},
   "outputs": [],
   "source": [
    "# Add a season column to dataset\n",
    "def month_to_season(month):\n",
    "    if month in ['March', 'April', 'May']:\n",
    "        return 'Spring'\n",
    "    elif month in ['June', 'July', 'August']:\n",
    "        return 'Summer'\n",
    "    elif month in ['September', 'October', 'November']:\n",
    "        return 'Autumn'\n",
    "    else:\n",
    "        return 'Winter'\n",
    "\n",
    "df['OCC_SEASON'] = df['OCC_MONTH'].apply(month_to_season)\n"
   ]
  },
  {
   "cell_type": "code",
   "execution_count": 24,
   "metadata": {},
   "outputs": [
    {
     "data": {
      "text/html": [
       "<div>\n",
       "<style scoped>\n",
       "    .dataframe tbody tr th:only-of-type {\n",
       "        vertical-align: middle;\n",
       "    }\n",
       "\n",
       "    .dataframe tbody tr th {\n",
       "        vertical-align: top;\n",
       "    }\n",
       "\n",
       "    .dataframe thead th {\n",
       "        text-align: right;\n",
       "    }\n",
       "</style>\n",
       "<table border=\"1\" class=\"dataframe\">\n",
       "  <thead>\n",
       "    <tr style=\"text-align: right;\">\n",
       "      <th></th>\n",
       "      <th>OCC_YEAR</th>\n",
       "      <th>OCC_MONTH</th>\n",
       "      <th>OCC_DOW</th>\n",
       "      <th>OCC_DOY</th>\n",
       "      <th>OCC_DAY</th>\n",
       "      <th>OCC_HOUR</th>\n",
       "      <th>OCC_TIME_RANGE</th>\n",
       "      <th>DIVISION</th>\n",
       "      <th>DEATH</th>\n",
       "      <th>INJURIES</th>\n",
       "      <th>HOOD_158</th>\n",
       "      <th>NEIGHBOURHOOD_158</th>\n",
       "      <th>LONG_WGS84</th>\n",
       "      <th>LAT_WGS84</th>\n",
       "      <th>OCC_SEASON</th>\n",
       "    </tr>\n",
       "  </thead>\n",
       "  <tbody>\n",
       "    <tr>\n",
       "      <th>0</th>\n",
       "      <td>2004</td>\n",
       "      <td>May</td>\n",
       "      <td>Saturday</td>\n",
       "      <td>136</td>\n",
       "      <td>15</td>\n",
       "      <td>1</td>\n",
       "      <td>Night</td>\n",
       "      <td>D41</td>\n",
       "      <td>0</td>\n",
       "      <td>0</td>\n",
       "      <td>142</td>\n",
       "      <td>Woburn North</td>\n",
       "      <td>-79.234955</td>\n",
       "      <td>43.781528</td>\n",
       "      <td>Spring</td>\n",
       "    </tr>\n",
       "    <tr>\n",
       "      <th>1</th>\n",
       "      <td>2004</td>\n",
       "      <td>July</td>\n",
       "      <td>Monday</td>\n",
       "      <td>208</td>\n",
       "      <td>26</td>\n",
       "      <td>23</td>\n",
       "      <td>Evening</td>\n",
       "      <td>D23</td>\n",
       "      <td>0</td>\n",
       "      <td>0</td>\n",
       "      <td>1</td>\n",
       "      <td>West Humber-Clairville</td>\n",
       "      <td>-79.618218</td>\n",
       "      <td>43.733547</td>\n",
       "      <td>Summer</td>\n",
       "    </tr>\n",
       "    <tr>\n",
       "      <th>2</th>\n",
       "      <td>2004</td>\n",
       "      <td>May</td>\n",
       "      <td>Friday</td>\n",
       "      <td>135</td>\n",
       "      <td>14</td>\n",
       "      <td>16</td>\n",
       "      <td>Afternoon</td>\n",
       "      <td>D31</td>\n",
       "      <td>1</td>\n",
       "      <td>1</td>\n",
       "      <td>24</td>\n",
       "      <td>Black Creek</td>\n",
       "      <td>-79.518759</td>\n",
       "      <td>43.769157</td>\n",
       "      <td>Spring</td>\n",
       "    </tr>\n",
       "    <tr>\n",
       "      <th>3</th>\n",
       "      <td>2004</td>\n",
       "      <td>December</td>\n",
       "      <td>Sunday</td>\n",
       "      <td>354</td>\n",
       "      <td>19</td>\n",
       "      <td>0</td>\n",
       "      <td>Night</td>\n",
       "      <td>D51</td>\n",
       "      <td>1</td>\n",
       "      <td>0</td>\n",
       "      <td>168</td>\n",
       "      <td>Downtown Yonge East</td>\n",
       "      <td>-79.378870</td>\n",
       "      <td>43.660665</td>\n",
       "      <td>Winter</td>\n",
       "    </tr>\n",
       "    <tr>\n",
       "      <th>4</th>\n",
       "      <td>2004</td>\n",
       "      <td>April</td>\n",
       "      <td>Monday</td>\n",
       "      <td>103</td>\n",
       "      <td>12</td>\n",
       "      <td>22</td>\n",
       "      <td>Evening</td>\n",
       "      <td>D42</td>\n",
       "      <td>0</td>\n",
       "      <td>0</td>\n",
       "      <td>146</td>\n",
       "      <td>Malvern East</td>\n",
       "      <td>-79.212435</td>\n",
       "      <td>43.812075</td>\n",
       "      <td>Spring</td>\n",
       "    </tr>\n",
       "    <tr>\n",
       "      <th>...</th>\n",
       "      <td>...</td>\n",
       "      <td>...</td>\n",
       "      <td>...</td>\n",
       "      <td>...</td>\n",
       "      <td>...</td>\n",
       "      <td>...</td>\n",
       "      <td>...</td>\n",
       "      <td>...</td>\n",
       "      <td>...</td>\n",
       "      <td>...</td>\n",
       "      <td>...</td>\n",
       "      <td>...</td>\n",
       "      <td>...</td>\n",
       "      <td>...</td>\n",
       "      <td>...</td>\n",
       "    </tr>\n",
       "    <tr>\n",
       "      <th>5702</th>\n",
       "      <td>2022</td>\n",
       "      <td>June</td>\n",
       "      <td>Thursday</td>\n",
       "      <td>153</td>\n",
       "      <td>2</td>\n",
       "      <td>3</td>\n",
       "      <td>Night</td>\n",
       "      <td>D33</td>\n",
       "      <td>0</td>\n",
       "      <td>1</td>\n",
       "      <td>53</td>\n",
       "      <td>Henry Farm</td>\n",
       "      <td>-79.362941</td>\n",
       "      <td>43.771764</td>\n",
       "      <td>Summer</td>\n",
       "    </tr>\n",
       "    <tr>\n",
       "      <th>5703</th>\n",
       "      <td>2022</td>\n",
       "      <td>July</td>\n",
       "      <td>Sunday</td>\n",
       "      <td>198</td>\n",
       "      <td>17</td>\n",
       "      <td>3</td>\n",
       "      <td>Night</td>\n",
       "      <td>D14</td>\n",
       "      <td>1</td>\n",
       "      <td>1</td>\n",
       "      <td>164</td>\n",
       "      <td>Wellington Place</td>\n",
       "      <td>-79.402702</td>\n",
       "      <td>43.643920</td>\n",
       "      <td>Summer</td>\n",
       "    </tr>\n",
       "    <tr>\n",
       "      <th>5704</th>\n",
       "      <td>2022</td>\n",
       "      <td>February</td>\n",
       "      <td>Monday</td>\n",
       "      <td>52</td>\n",
       "      <td>21</td>\n",
       "      <td>5</td>\n",
       "      <td>Night</td>\n",
       "      <td>D43</td>\n",
       "      <td>0</td>\n",
       "      <td>0</td>\n",
       "      <td>135</td>\n",
       "      <td>Morningside</td>\n",
       "      <td>-79.196217</td>\n",
       "      <td>43.786621</td>\n",
       "      <td>Winter</td>\n",
       "    </tr>\n",
       "    <tr>\n",
       "      <th>5705</th>\n",
       "      <td>2022</td>\n",
       "      <td>September</td>\n",
       "      <td>Sunday</td>\n",
       "      <td>254</td>\n",
       "      <td>11</td>\n",
       "      <td>1</td>\n",
       "      <td>Night</td>\n",
       "      <td>D11</td>\n",
       "      <td>0</td>\n",
       "      <td>2</td>\n",
       "      <td>83</td>\n",
       "      <td>Dufferin Grove</td>\n",
       "      <td>-79.443993</td>\n",
       "      <td>43.658083</td>\n",
       "      <td>Autumn</td>\n",
       "    </tr>\n",
       "    <tr>\n",
       "      <th>5706</th>\n",
       "      <td>2022</td>\n",
       "      <td>April</td>\n",
       "      <td>Wednesday</td>\n",
       "      <td>117</td>\n",
       "      <td>27</td>\n",
       "      <td>17</td>\n",
       "      <td>Afternoon</td>\n",
       "      <td>D51</td>\n",
       "      <td>0</td>\n",
       "      <td>0</td>\n",
       "      <td>73</td>\n",
       "      <td>Moss Park</td>\n",
       "      <td>-79.369456</td>\n",
       "      <td>43.654519</td>\n",
       "      <td>Spring</td>\n",
       "    </tr>\n",
       "  </tbody>\n",
       "</table>\n",
       "<p>5707 rows × 15 columns</p>\n",
       "</div>"
      ],
      "text/plain": [
       "      OCC_YEAR  OCC_MONTH    OCC_DOW  OCC_DOY  OCC_DAY  OCC_HOUR   \n",
       "0         2004        May   Saturday      136       15         1  \\\n",
       "1         2004       July     Monday      208       26        23   \n",
       "2         2004        May     Friday      135       14        16   \n",
       "3         2004   December     Sunday      354       19         0   \n",
       "4         2004      April     Monday      103       12        22   \n",
       "...        ...        ...        ...      ...      ...       ...   \n",
       "5702      2022       June   Thursday      153        2         3   \n",
       "5703      2022       July     Sunday      198       17         3   \n",
       "5704      2022   February     Monday       52       21         5   \n",
       "5705      2022  September     Sunday      254       11         1   \n",
       "5706      2022      April  Wednesday      117       27        17   \n",
       "\n",
       "     OCC_TIME_RANGE DIVISION  DEATH  INJURIES HOOD_158   \n",
       "0             Night      D41      0         0      142  \\\n",
       "1           Evening      D23      0         0        1   \n",
       "2         Afternoon      D31      1         1       24   \n",
       "3             Night      D51      1         0      168   \n",
       "4           Evening      D42      0         0      146   \n",
       "...             ...      ...    ...       ...      ...   \n",
       "5702          Night      D33      0         1       53   \n",
       "5703          Night      D14      1         1      164   \n",
       "5704          Night      D43      0         0      135   \n",
       "5705          Night      D11      0         2       83   \n",
       "5706      Afternoon      D51      0         0       73   \n",
       "\n",
       "           NEIGHBOURHOOD_158  LONG_WGS84  LAT_WGS84 OCC_SEASON  \n",
       "0               Woburn North  -79.234955  43.781528     Spring  \n",
       "1     West Humber-Clairville  -79.618218  43.733547     Summer  \n",
       "2                Black Creek  -79.518759  43.769157     Spring  \n",
       "3        Downtown Yonge East  -79.378870  43.660665     Winter  \n",
       "4               Malvern East  -79.212435  43.812075     Spring  \n",
       "...                      ...         ...        ...        ...  \n",
       "5702              Henry Farm  -79.362941  43.771764     Summer  \n",
       "5703        Wellington Place  -79.402702  43.643920     Summer  \n",
       "5704             Morningside  -79.196217  43.786621     Winter  \n",
       "5705          Dufferin Grove  -79.443993  43.658083     Autumn  \n",
       "5706               Moss Park  -79.369456  43.654519     Spring  \n",
       "\n",
       "[5707 rows x 15 columns]"
      ]
     },
     "execution_count": 24,
     "metadata": {},
     "output_type": "execute_result"
    }
   ],
   "source": [
    "# View dataset\n",
    "df"
   ]
  },
  {
   "attachments": {},
   "cell_type": "markdown",
   "metadata": {},
   "source": [
    "Conclusion: \n",
    "\n",
    "The dataset has undergone a comprehensive cleaning and data processing process, resulting in a well-prepared dataset that is ready for analysis. Here is a summary of the key steps and improvements made:\n",
    "\n",
    "Step 1: Drop Unnecessary Columns: Several columns, including 'X', 'Y', 'OBJECTID', 'EVENT_UNIQUE_ID', 'HOOD_140', 'NEIGHBOURHOOD_140', and 'OCC_DATE', were identified as unnecessary for our analysis and were dropped. This improved the focus and clarity of the dataset.\n",
    "\n",
    "Step 2: Check Data Types: The data types of certain columns were evaluated and adjusted as needed. 'DIVISION', 'OCC_MONTH', 'OCC_DOW', 'HOOD_158', 'NEIGHBOURHOOD_158', and 'OCC_TIME_RANGE' were converted to the 'category' data type, which not only saves memory but also allows for efficient categorical operations.\n",
    "\n",
    "Step 3: Check Missing Values: No missing values were found in the dataset, ensuring data completeness and minimizing the need for imputation or data filling techniques.\n",
    "\n",
    "Step 4: Outlier Detection: Given the nature of the dataset (shootings and firearm incidents), outliers were not treated as anomalies but rather as significant events that hold crucial information for analysis. Therefore, no further outlier removal or manipulation was performed.\n",
    "\n",
    "Step 5: Feature Engineering: Additional features were created to enhance the dataset's analytical value. The 'OCC_SEASON' column was derived from the 'OCC_MONTH' column, categorizing the months into seasons (Spring, Summer, Autumn, Winter). This enables exploration of potential seasonal patterns in shooting incidents.\n",
    "\n",
    "The dataset is now cleaned, structured, and prepared to facilitate insightful analysis. By eliminating unnecessary columns, optimizing data types, handling missing values, and incorporating additional features, the dataset has become more focused, efficient, and informative for our analysis purpose.\n",
    "\n",
    "These cleaning and processing steps ensure that the dataset is in a suitable format to apply various analytical techniques, such as exploring temporal patterns, investigating neighborhood-specific trends, and conducting statistical modeling. The efforts invested in data preparation are crucial for producing reliable and meaningful insights from the analysis."
   ]
  }
 ],
 "metadata": {
  "kernelspec": {
   "display_name": "Python 3",
   "language": "python",
   "name": "python3"
  },
  "language_info": {
   "codemirror_mode": {
    "name": "ipython",
    "version": 3
   },
   "file_extension": ".py",
   "mimetype": "text/x-python",
   "name": "python",
   "nbconvert_exporter": "python",
   "pygments_lexer": "ipython3",
   "version": "3.8.9"
  },
  "orig_nbformat": 4
 },
 "nbformat": 4,
 "nbformat_minor": 2
}
